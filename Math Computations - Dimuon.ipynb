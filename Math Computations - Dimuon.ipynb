{
 "cells": [
  {
   "cell_type": "code",
   "execution_count": 1,
   "id": "6a7dba38",
   "metadata": {},
   "outputs": [],
   "source": [
    "import math "
   ]
  },
  {
   "cell_type": "code",
   "execution_count": 7,
   "id": "fad989f7",
   "metadata": {},
   "outputs": [],
   "source": [
    "def noise_funcE2(noise, E1, px1, px2, py1, py2, pz1, pz2, M):\n",
    "    return(noise - E1 + math.sqrt((px1 + px2 + py1 + py2 + pz1 + pz2)**2 + M**2))"
   ]
  },
  {
   "cell_type": "code",
   "execution_count": 14,
   "id": "6048317f",
   "metadata": {},
   "outputs": [
    {
     "name": "stdout",
     "output_type": "stream",
     "text": [
      "342.2868247152081\n",
      "324.3535866318099\n"
     ]
    }
   ],
   "source": [
    "#min min \n",
    "print(noise_funcE2(1.58*10**(-10), 2.89957, -45.3252, -50.2731, -45.0123, -35.6501, -94.1629, -74.757, 2.00012))\n",
    "#max max \n",
    "print(noise_funcE2(5.4*10**(-6), 182.8, 39.0471, 47.6429, 75.5053, 66.1908, 179.426, 87.7804, 107.67))"
   ]
  },
  {
   "cell_type": "code",
   "execution_count": 15,
   "id": "ed1b186e",
   "metadata": {},
   "outputs": [],
   "source": [
    "def noise_funcE1(noise, E2, px1, px2, py1, py2, pz1, pz2, M):\n",
    "    return(noise - E2 + math.sqrt((px1 + px2 + py1 + py2 + pz1 + pz2)**2 + M**2))"
   ]
  },
  {
   "cell_type": "code",
   "execution_count": 16,
   "id": "27b4ac65",
   "metadata": {},
   "outputs": [
    {
     "name": "stdout",
     "output_type": "stream",
     "text": [
      "342.61253471520814\n",
      "414.65778663180987\n"
     ]
    }
   ],
   "source": [
    "#min min \n",
    "print(noise_funcE1(1.58*10**(-10), 2.57386, -45.3252, -50.2731, -45.0123, -35.6501, -94.1629, -74.757, 2.00012))\n",
    "#max max \n",
    "print(noise_funcE1(5.4*10**(-6), 92.4958, 39.0471, 47.6429, 75.5053, 66.1908, 179.426, 87.7804, 107.67))"
   ]
  },
  {
   "cell_type": "code",
   "execution_count": 17,
   "id": "7970b441",
   "metadata": {},
   "outputs": [],
   "source": [
    "def noise_funcpx1(noise, E2, E1, px2, py1, py2, pz1, pz2, M):\n",
    "    return(math.sqrt((noise - E2 - E1)**2 - M**2) - px2 - py1 - py2 - pz1 - pz2)"
   ]
  },
  {
   "cell_type": "code",
   "execution_count": 18,
   "id": "aab04ad2",
   "metadata": {},
   "outputs": [
    {
     "name": "stdout",
     "output_type": "stream",
     "text": [
      "304.95029508712105\n",
      "-203.17818502449177\n"
     ]
    }
   ],
   "source": [
    "#min min \n",
    "print(noise_funcpx1(1.58*10**(-10), 2.57386, 2.89957, -50.2731, -45.0123, -35.6501, -94.1629, -74.757, 2.00012))\n",
    "#max max \n",
    "print(noise_funcpx1(5.4*10**(-6), 92.4958, 182.8, 47.6429, 75.5053, 66.1908, 179.426, 87.7804, 107.67))"
   ]
  },
  {
   "cell_type": "code",
   "execution_count": 19,
   "id": "8889993b",
   "metadata": {},
   "outputs": [],
   "source": [
    "def noise_funcpx2(noise, E2, E1, px1, py1, py2, pz1, pz2, M):\n",
    "    return(math.sqrt((noise - E2 - E1)**2 - M**2) - px1 - py1 - py2 - pz1 - pz2)"
   ]
  },
  {
   "cell_type": "code",
   "execution_count": 24,
   "id": "7d53912f",
   "metadata": {},
   "outputs": [
    {
     "name": "stdout",
     "output_type": "stream",
     "text": [
      "300.0023950871211\n",
      "-194.58238502449177\n"
     ]
    }
   ],
   "source": [
    "#min min \n",
    "print(noise_funcpx2(1.58*10**(-10), 2.57386, 2.89957, -45.3252, -45.0123, -35.6501, -94.1629, -74.757, 2.00012))\n",
    "#max max \n",
    "print(noise_funcpx2(5.4*10**(-6), 92.4958, 182.8, 39.0471, 75.5053, 66.1908, 179.426, 87.7804, 107.67))"
   ]
  },
  {
   "cell_type": "code",
   "execution_count": 21,
   "id": "d6178583",
   "metadata": {},
   "outputs": [],
   "source": [
    "def noise_funcpy1(noise, E2, E1, px1, px2, py2, pz1, pz2, M):\n",
    "    return(math.sqrt((noise - E2 - E1)**2 - M**2) - px1 - px2 - py2 - pz1 - pz2)"
   ]
  },
  {
   "cell_type": "code",
   "execution_count": 25,
   "id": "d6d5b553",
   "metadata": {},
   "outputs": [
    {
     "name": "stdout",
     "output_type": "stream",
     "text": [
      "305.26319508712106\n",
      "-166.71998502449173\n"
     ]
    }
   ],
   "source": [
    "#min min \n",
    "print(noise_funcpy1(1.58*10**(-10), 2.57386, 2.89957, -45.3252, -50.2731, -35.6501, -94.1629, -74.757, 2.00012))\n",
    "#max max \n",
    "print(noise_funcpy1(5.4*10**(-6), 92.4958, 182.8, 39.0471, 47.6429, 66.1908, 179.426, 87.7804, 107.67))"
   ]
  },
  {
   "cell_type": "code",
   "execution_count": 27,
   "id": "bf04b30e",
   "metadata": {},
   "outputs": [],
   "source": [
    "def noise_funcpy2(noise, E2, E1, px1, px2, py1, pz1, pz2, M):\n",
    "    return(math.sqrt((noise - E2 - E1)**2 - M**2) - px1 - px2 - py1 - pz1 - pz2)"
   ]
  },
  {
   "cell_type": "code",
   "execution_count": 29,
   "id": "0295e4c1",
   "metadata": {},
   "outputs": [
    {
     "name": "stdout",
     "output_type": "stream",
     "text": [
      "314.6253950871211\n",
      "-176.03448502449174\n"
     ]
    }
   ],
   "source": [
    "#min min \n",
    "print(noise_funcpy2(1.58*10**(-10), 2.57386, 2.89957, -45.3252, -50.2731, -45.0123, -94.1629, -74.757, 2.00012))\n",
    "#max max \n",
    "print(noise_funcpy2(5.4*10**(-6), 92.4958, 182.8, 39.0471, 47.6429, 75.5053, 179.426, 87.7804, 107.67))"
   ]
  },
  {
   "cell_type": "code",
   "execution_count": 30,
   "id": "3b99c106",
   "metadata": {},
   "outputs": [],
   "source": [
    "def noise_funcpz1(noise, E2, E1, px1, px2, py1, py2,pz2, M):\n",
    "    return(math.sqrt((noise - E2 - E1)**2 - M**2) - px1 - px2 - py1 - py2 - pz2)"
   ]
  },
  {
   "cell_type": "code",
   "execution_count": 31,
   "id": "ac9edeb1",
   "metadata": {},
   "outputs": [
    {
     "name": "stdout",
     "output_type": "stream",
     "text": [
      "256.1125950871211\n",
      "-62.799285024491766\n"
     ]
    }
   ],
   "source": [
    "#min min \n",
    "print(noise_funcpz1(1.58*10**(-10), 2.57386, 2.89957, -45.3252, -50.2731, -45.0123, -35.6501, -74.757, 2.00012))\n",
    "#max max \n",
    "print(noise_funcpz1(5.4*10**(-6), 92.4958, 182.8, 39.0471, 47.6429, 75.5053, 66.1908, 87.7804, 107.67))"
   ]
  },
  {
   "cell_type": "code",
   "execution_count": 32,
   "id": "83d8cdd4",
   "metadata": {},
   "outputs": [],
   "source": [
    "def noise_funcpz2(noise, E2, E1, px1, px2, py1, py2,pz1, M):\n",
    "    return(math.sqrt((noise - E2 - E1)**2 - M**2) - px1 - px2 - py1 - py2 - pz1)"
   ]
  },
  {
   "cell_type": "code",
   "execution_count": 33,
   "id": "1a0f26b0",
   "metadata": {},
   "outputs": [
    {
     "name": "stdout",
     "output_type": "stream",
     "text": [
      "275.5184950871211\n",
      "-154.44488502449175\n"
     ]
    }
   ],
   "source": [
    "#min min \n",
    "print(noise_funcpz2(1.58*10**(-10), 2.57386, 2.89957, -45.3252, -50.2731, -45.0123, -35.6501, -94.1629, 2.00012))\n",
    "#max max \n",
    "print(noise_funcpz2(5.4*10**(-6), 92.4958, 182.8, 39.0471, 47.6429, 75.5053, 66.1908, 179.426, 107.67))"
   ]
  },
  {
   "cell_type": "code",
   "execution_count": 39,
   "id": "2be9ca23",
   "metadata": {},
   "outputs": [],
   "source": [
    "def noise_funcM(noise, E2, E1, px1, px2, py1, py2,pz1, pz2):\n",
    "    return(math.sqrt(abs((noise - E2 - E1)**2 - (px1 + px2 + py1 + py2 + pz1 + pz2)**2)))"
   ]
  },
  {
   "cell_type": "code",
   "execution_count": 40,
   "id": "41d49495",
   "metadata": {},
   "outputs": [
    {
     "name": "stdout",
     "output_type": "stream",
     "text": [
      "345.13720196524287\n",
      "412.09725979652495\n"
     ]
    }
   ],
   "source": [
    "#min min \n",
    "print(noise_funcM(1.58*10**(-10), 2.57386, 2.89957, -45.3252, -50.2731, -45.0123, -35.6501, -94.1629, -74.757))\n",
    "#max max \n",
    "print(noise_funcM(5.4*10**(-6), 92.4958, 182.8, 39.0471, 47.6429, 75.5053, 66.1908, 179.426, 87.7804))"
   ]
  },
  {
   "cell_type": "code",
   "execution_count": 43,
   "id": "dd0ae163",
   "metadata": {},
   "outputs": [
    {
     "name": "stdout",
     "output_type": "stream",
     "text": [
      "342.61253471520814\n",
      "414.65778663180987\n",
      "342.2868247152081\n",
      "324.3535866318099\n",
      "304.95029508712105\n",
      "-203.17818502449177\n",
      "300.0023950871211\n",
      "-194.58238502449177\n",
      "305.26319508712106\n",
      "-166.71998502449173\n",
      "314.6253950871211\n",
      "-176.03448502449174\n",
      "256.1125950871211\n",
      "-62.799285024491766\n",
      "275.5184950871211\n",
      "-154.44488502449175\n",
      "345.13720196524287\n",
      "412.09725979652495\n"
     ]
    }
   ],
   "source": [
    "def funcE1(noise, E2, px1, px2, py1, py2, pz1, pz2, M):\n",
    "    return(noise - E2 + math.sqrt((px1 + px2 + py1 + py2 + pz1 + pz2)**2 + M**2))\n",
    "print(funcE1(1.58*10**(-10), 2.57386, -45.3252, -50.2731, -45.0123, -35.6501, -94.1629, -74.757, 2.00012)) #min\n",
    "print(funcE1(5.4*10**(-6), 92.4958, 39.0471, 47.6429, 75.5053, 66.1908, 179.426, 87.7804, 107.67)) #max\n",
    "def funcE2(noise, E1, px1, px2, py1, py2, pz1, pz2, M):\n",
    "    return(noise - E1 + math.sqrt((px1 + px2 + py1 + py2 + pz1 + pz2)**2 + M**2))\n",
    "print(funcE2(1.58*10**(-10), 2.89957, -45.3252, -50.2731, -45.0123, -35.6501, -94.1629, -74.757, 2.00012)) #min\n",
    "print(funcE2(5.4*10**(-6), 182.8, 39.0471, 47.6429, 75.5053, 66.1908, 179.426, 87.7804, 107.67)) #max \n",
    "def funcpx1(noise, E2, E1, px2, py1, py2, pz1, pz2, M):\n",
    "    return(math.sqrt((noise - E2 - E1)**2 - M**2) - px2 - py1 - py2 - pz1 - pz2)\n",
    "print(funcpx1(1.58*10**(-10), 2.57386, 2.89957, -50.2731, -45.0123, -35.6501, -94.1629, -74.757, 2.00012)) #min \n",
    "print(funcpx1(5.4*10**(-6), 92.4958, 182.8, 47.6429, 75.5053, 66.1908, 179.426, 87.7804, 107.67)) #max  \n",
    "def funcpx2(noise, E2, E1, px1, py1, py2, pz1, pz2, M):\n",
    "    return(math.sqrt((noise - E2 - E1)**2 - M**2) - px1 - py1 - py2 - pz1 - pz2)\n",
    "print(funcpx2(1.58*10**(-10), 2.57386, 2.89957, -45.3252, -45.0123, -35.6501, -94.1629, -74.757, 2.00012)) #min\n",
    "print(funcpx2(5.4*10**(-6), 92.4958, 182.8, 39.0471, 75.5053, 66.1908, 179.426, 87.7804, 107.67)) #max\n",
    "def funcpy1(noise, E2, E1, px1, px2, py2, pz1, pz2, M):\n",
    "    return(math.sqrt((noise - E2 - E1)**2 - M**2) - px1 - px2 - py2 - pz1 - pz2)\n",
    "print(funcpy1(1.58*10**(-10), 2.57386, 2.89957, -45.3252, -50.2731, -35.6501, -94.1629, -74.757, 2.00012)) #min\n",
    "print(funcpy1(5.4*10**(-6), 92.4958, 182.8, 39.0471, 47.6429, 66.1908, 179.426, 87.7804, 107.67)) #max\n",
    "def funcpy2(noise, E2, E1, px1, px2, py1, pz1, pz2, M):\n",
    "    return(math.sqrt((noise - E2 - E1)**2 - M**2) - px1 - px2 - py1 - pz1 - pz2)\n",
    "print(funcpy2(1.58*10**(-10), 2.57386, 2.89957, -45.3252, -50.2731, -45.0123, -94.1629, -74.757, 2.00012)) #min\n",
    "print(funcpy2(5.4*10**(-6), 92.4958, 182.8, 39.0471, 47.6429, 75.5053, 179.426, 87.7804, 107.67)) #max \n",
    "def funcpz1(noise, E2, E1, px1, px2, py1, py2,pz2, M):\n",
    "    return(math.sqrt((noise - E2 - E1)**2 - M**2) - px1 - px2 - py1 - py2 - pz2)\n",
    "print(funcpz1(1.58*10**(-10), 2.57386, 2.89957, -45.3252, -50.2731, -45.0123, -35.6501, -74.757, 2.00012)) #min \n",
    "print(funcpz1(5.4*10**(-6), 92.4958, 182.8, 39.0471, 47.6429, 75.5053, 66.1908, 87.7804, 107.67)) #max\n",
    "def funcpz2(noise, E2, E1, px1, px2, py1, py2,pz1, M):\n",
    "    return(math.sqrt((noise - E2 - E1)**2 - M**2) - px1 - px2 - py1 - py2 - pz1)\n",
    "print(funcpz2(1.58*10**(-10), 2.57386, 2.89957, -45.3252, -50.2731, -45.0123, -35.6501, -94.1629, 2.00012)) #min\n",
    "print(funcpz2(5.4*10**(-6), 92.4958, 182.8, 39.0471, 47.6429, 75.5053, 66.1908, 179.426, 107.67)) #max \n",
    "def funcM(noise, E2, E1, px1, px2, py1, py2,pz1, pz2):\n",
    "    return(math.sqrt(abs((noise - E2 - E1)**2 - (px1 + px2 + py1 + py2 + pz1 + pz2)**2)))\n",
    "print(funcM(1.58*10**(-10), 2.57386, 2.89957, -45.3252, -50.2731, -45.0123, -35.6501, -94.1629, -74.757)) #min  \n",
    "print(funcM(5.4*10**(-6), 92.4958, 182.8, 39.0471, 47.6429, 75.5053, 66.1908, 179.426, 87.7804)) #max"
   ]
  },
  {
   "cell_type": "code",
   "execution_count": null,
   "id": "b6a9a77e",
   "metadata": {},
   "outputs": [],
   "source": []
  }
 ],
 "metadata": {
  "kernelspec": {
   "display_name": "Python 3 (ipykernel)",
   "language": "python",
   "name": "python3"
  },
  "language_info": {
   "codemirror_mode": {
    "name": "ipython",
    "version": 3
   },
   "file_extension": ".py",
   "mimetype": "text/x-python",
   "name": "python",
   "nbconvert_exporter": "python",
   "pygments_lexer": "ipython3",
   "version": "3.9.12"
  }
 },
 "nbformat": 4,
 "nbformat_minor": 5
}
